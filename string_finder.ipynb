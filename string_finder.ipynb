{
 "cells": [
  {
   "cell_type": "code",
   "execution_count": 4,
   "metadata": {},
   "outputs": [],
   "source": [
    "import re\n",
    "import os\n",
    "from openpyxl import Workbook"
   ]
  },
  {
   "cell_type": "code",
   "execution_count": 2,
   "metadata": {},
   "outputs": [],
   "source": [
    "directory = \"./Parts\""
   ]
  },
  {
   "cell_type": "code",
   "execution_count": null,
   "metadata": {},
   "outputs": [],
   "source": [
    "# search .cs files that dont end in .designer.cs\n",
    "def find_sql_data_sources(directory):\n",
    "    sql_data_sources = []\n",
    "    patterns = [r\"SELECT \", r'SqlCommand\\(\"', r'SqlDataAdapter\\(\"']\n",
    "\n",
    "    for root, _, files in os.walk(directory):\n",
    "        for file in files:\n",
    "            if file.endswith(\".cs\") and not file.endswith(\".designer.cs\"):\n",
    "                filepath = os.path.join(root, file)\n",
    "                with open(filepath, \"r\") as f:\n",
    "                    content = f.readlines()\n",
    "                    for line_number, line in enumerate(content, 1):\n",
    "                        for pattern in patterns:\n",
    "                            if re.search(pattern, line):\n",
    "                                sql_data_sources.append(\n",
    "                                    (file, line_number, line.strip())\n",
    "                                )\n",
    "\n",
    "    return sql_data_sources\n",
    "sql_data_sources = find_sql_data_sources(directory)\n",
    "\n",
    "wb = Workbook()\n",
    "ws = wb.active\n",
    "ws.append([\"File\", \"Line Number\", \"Select Command\"])\n",
    "\n",
    "for file, line_number, command in sql_data_sources:\n",
    "    ws.append([file, line_number, command])\n",
    "\n",
    "excel_file = \"sql_select_commands.xlsx\"\n",
    "wb.save(excel_file)\n",
    "print(f\"Excel file '{excel_file}' has been created.\")"
   ]
  },
  {
   "cell_type": "code",
   "execution_count": null,
   "metadata": {},
   "outputs": [],
   "source": [
    "# Write .cs results to Excel file\n",
    "wb = Workbook()\n",
    "ws = wb.active\n",
    "ws.append([\"File\", \"Line Number\", \"Select Command\"])\n",
    "\n",
    "for file, line_number, command in sql_data_sources:\n",
    "    ws.append([file, line_number, command])\n",
    "\n",
    "excel_file = \"sql_select_commands.xlsx\"\n",
    "wb.save(excel_file)\n",
    "print(f\"Excel file '{excel_file}' has been created.\")"
   ]
  },
  {
   "cell_type": "code",
   "execution_count": 3,
   "metadata": {},
   "outputs": [
    {
     "ename": "NameError",
     "evalue": "name 'os' is not defined",
     "output_type": "error",
     "traceback": [
      "\u001b[1;31m---------------------------------------------------------------------------\u001b[0m",
      "\u001b[1;31mNameError\u001b[0m                                 Traceback (most recent call last)",
      "Cell \u001b[1;32mIn[3], line 21\u001b[0m\n\u001b[0;32m     15\u001b[0m                                 sql_data_sources2\u001b[38;5;241m.\u001b[39mappend(\n\u001b[0;32m     16\u001b[0m                                     (file, line_number, line\u001b[38;5;241m.\u001b[39mstrip())\n\u001b[0;32m     17\u001b[0m                                 )\n\u001b[0;32m     19\u001b[0m     \u001b[38;5;28;01mreturn\u001b[39;00m sql_data_sources2\n\u001b[1;32m---> 21\u001b[0m sql_data_sources2 \u001b[38;5;241m=\u001b[39m \u001b[43mfind_sql_data_sources2\u001b[49m\u001b[43m(\u001b[49m\u001b[43mdirectory\u001b[49m\u001b[43m)\u001b[49m\n",
      "Cell \u001b[1;32mIn[3], line 6\u001b[0m, in \u001b[0;36mfind_sql_data_sources2\u001b[1;34m(directory)\u001b[0m\n\u001b[0;32m      3\u001b[0m sql_data_sources2 \u001b[38;5;241m=\u001b[39m []\n\u001b[0;32m      4\u001b[0m patterns \u001b[38;5;241m=\u001b[39m patterns \u001b[38;5;241m=\u001b[39m [\u001b[38;5;124mr\u001b[39m\u001b[38;5;124m\"\u001b[39m\u001b[38;5;124mSELECT \u001b[39m\u001b[38;5;124m\"\u001b[39m, \u001b[38;5;124mr\u001b[39m\u001b[38;5;124m'\u001b[39m\u001b[38;5;124mSqlCommand\u001b[39m\u001b[38;5;124m\\\u001b[39m\u001b[38;5;124m(\u001b[39m\u001b[38;5;124m\"\u001b[39m\u001b[38;5;124m'\u001b[39m, \u001b[38;5;124mr\u001b[39m\u001b[38;5;124m'\u001b[39m\u001b[38;5;124mSqlDataAdapter\u001b[39m\u001b[38;5;124m\\\u001b[39m\u001b[38;5;124m(\u001b[39m\u001b[38;5;124m\"\u001b[39m\u001b[38;5;124m'\u001b[39m]\n\u001b[1;32m----> 6\u001b[0m \u001b[38;5;28;01mfor\u001b[39;00m root, _, files \u001b[38;5;129;01min\u001b[39;00m \u001b[43mos\u001b[49m\u001b[38;5;241m.\u001b[39mwalk(directory):\n\u001b[0;32m      7\u001b[0m     \u001b[38;5;28;01mfor\u001b[39;00m file \u001b[38;5;129;01min\u001b[39;00m files:\n\u001b[0;32m      8\u001b[0m         \u001b[38;5;28;01mif\u001b[39;00m file\u001b[38;5;241m.\u001b[39mendswith(\u001b[38;5;124m\"\u001b[39m\u001b[38;5;124m.ascx\u001b[39m\u001b[38;5;124m\"\u001b[39m):\n",
      "\u001b[1;31mNameError\u001b[0m: name 'os' is not defined"
     ]
    }
   ],
   "source": [
    "# Search .ascx files\n",
    "def find_sql_data_sources2(directory):\n",
    "    sql_data_sources2 = []\n",
    "    patterns = patterns = [r\"SELECT \", r'SqlCommand\\(\"', r'SqlDataAdapter\\(\"']\n",
    "\n",
    "    for root, _, files in os.walk(directory):\n",
    "        for file in files:\n",
    "            if file.endswith(\".ascx\"):\n",
    "                filepath = os.path.join(root, file)\n",
    "                with open(filepath, encoding=\"utf8\") as f:\n",
    "                    content = f.readlines()\n",
    "                    for line_number, line in enumerate(content, 1):\n",
    "                        for pattern in patterns:\n",
    "                            if re.search(pattern, line):\n",
    "                                sql_data_sources2.append(\n",
    "                                    (file, line_number, line.strip())\n",
    "                                )\n",
    "\n",
    "    return sql_data_sources2\n",
    "\n",
    "sql_data_sources2 = find_sql_data_sources2(directory)"
   ]
  },
  {
   "cell_type": "code",
   "execution_count": null,
   "metadata": {},
   "outputs": [],
   "source": [
    "# write .ascx results to Excel file\n",
    "wb = Workbook()\n",
    "ws = wb.active\n",
    "ws.append([\"File\", \"Line Number\", \"Select Command\"])\n",
    "\n",
    "for file, line_number, command in sql_data_sources:\n",
    "    ws.append([file, line_number, command])\n",
    "\n",
    "excel_file = \"ascx_sql_select_commands.xlsx\"\n",
    "wb.save(excel_file)\n",
    "print(f\"Excel file '{excel_file}' has been created.\")"
   ]
  }
 ],
 "metadata": {
  "kernelspec": {
   "display_name": ".venv",
   "language": "python",
   "name": "python3"
  },
  "language_info": {
   "codemirror_mode": {
    "name": "ipython",
    "version": 3
   },
   "file_extension": ".py",
   "mimetype": "text/x-python",
   "name": "python",
   "nbconvert_exporter": "python",
   "pygments_lexer": "ipython3",
   "version": "3.12.2"
  }
 },
 "nbformat": 4,
 "nbformat_minor": 2
}
